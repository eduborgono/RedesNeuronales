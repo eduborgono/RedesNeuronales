{
 "cells": [
  {
   "cell_type": "markdown",
   "metadata": {},
   "source": [
    "<a id=\"primero\"></a>\n",
    "### 1. Back-propagation (BP) from *Scratch*\n",
    "\n",
    "a) La red neuronal se compone de cuatro capas, llamadas _entrada_, _capa1_, _capa2_ y _salida_. Las cuales corresponden respetivamente a la capa de entrada, las dos capas ocultas y la de salida.\n",
    "> (i) Para cada capa de la red se calcula la pre-activación (atributo _z_), la activación (atributo _a_) y la derivada de la activación (atributo <i>g\\_prima</i>).\n",
    "> (ii) Primero se calcula el valor $\\delta^{(salida)}$ y luego se obtienen los otros valores $\\delta^l$ a partir de éste. Con esto se determina el gradiente de todos los pesos de la red.\n",
    "$$\\delta^{(salida)} = \\nabla_{z^{(salida)}}Loss = (a^{(salida)}-y)\\circ\\sigma'(z^{(salida)})$$<br>\n",
    "$$\\delta^{(capa2)} = \\sigma'(z^{(capa2)})\\circ(\\delta^{(salida)}\\cdot W^{(salida)^T})$$<br>\n",
    "$$\\delta^{(capa1)} = \\sigma'(z^{(capa1)})\\circ(\\delta^{(capa2)}\\cdot W^{(capa2)^T})$$<br>\n",
    "$$\\nabla_{W^{(salida)}}Loss=a^{(capa2)^T}\\cdot \\delta^{(salida)}$$<br>\n",
    "$$\\nabla_{W^{(capa2)}}Loss=a^{(capa1)^T}\\cdot \\delta^{(capa2)}$$<br>\n",
    "$$\\nabla_{W^{(capa1)}}Loss=a^{(entrada)^T}\\cdot \\delta^{(capa1)}$$<br>\n",
    "\n",
    "> (iii) Para la rutina de entrenamiento desordenan los elementos del arreglo en cada _epoch_. Luego para cada ejemplo se realiza un _forward pass_ y posteriormente un _backward pass_. Una vez hecho eso se actualizan los pesos mediante la siguiente ecuación.\n",
    "$$ w^{(t+1)} \\leftarrow w^{(t)} - 0.1 \\nabla_{w^{(t)}} Loss $$"
   ]
  },
  {
   "cell_type": "code",
   "execution_count": 33,
   "metadata": {},
   "outputs": [],
   "source": [
    "import numpy as np\n",
    "import matplotlib.pyplot as plt\n",
    "from sklearn.preprocessing import StandardScaler\n",
    "from sklearn.datasets import load_iris\n",
    "\n",
    "\n",
    "def cross_entropy(empirico, teorico):\n",
    "    emp_acotado = np.clip(empirico, 1e-12, 1.0-1e-12)\n",
    "    return -(teorico*np.log(emp_acotado)).sum()\n",
    "\n",
    "\n",
    "def mse(empirico, teorico):\n",
    "    return (1 / 2) * np.sum(np.square(np.subtract(empirico, teorico)))\n",
    "\n",
    "\n",
    "def relu(matriz):\n",
    "    return matriz * (matriz > 0)\n",
    "\n",
    "\n",
    "def relu_derivada(matriz):\n",
    "    return 1.0 * (matriz > 0)\n",
    "\n",
    "\n",
    "def sigmoid(matriz):\n",
    "    return 1.0 / (1.0 + np.exp(-matriz))\n",
    "\n",
    "\n",
    "def sigmoid_derivada(matriz):\n",
    "    return sigmoid(matriz) * (1.0 - sigmoid(matriz))\n",
    "\n",
    "\n",
    "def softmax(matriz):\n",
    "    a = np.max(matriz)\n",
    "    m = np.subtract(matriz, a)\n",
    "    e_x = np.exp(m)\n",
    "    return e_x / e_x.sum()\n",
    "\n",
    "\n",
    "def softmax_derivada(matriz):\n",
    "    return softmax(matriz) * (1 - softmax(matriz))\n",
    "\n",
    "\n",
    "class Capa(object):\n",
    "    def __init__(self, z=None, a=None, w=None, v=None, funcion_activacion=None, der_func_activacion=None):\n",
    "        self.z = z\n",
    "        self.a = a\n",
    "        self.w = w\n",
    "        self.v = v\n",
    "        self.dw = None\n",
    "        self.g_prima = None\n",
    "        self.d = None\n",
    "        self.funcion_delta = funcion_activacion\n",
    "        self.funcion_delta_prima = der_func_activacion\n",
    "\n",
    "\n",
    "class RedNeuronal(object):\n",
    "    def __init__(self, nro_entradas, k, loss=\"mse\", activacion=[sigmoid, sigmoid_derivada], momentum=False):\n",
    "        self.nro_entradas = nro_entradas\n",
    "        self.k = k\n",
    "        self.loss = loss\n",
    "        self.momentum = momentum\n",
    "        self.entrada = Capa(a=np.ones((1, nro_entradas)))\n",
    "        self.capa1 = Capa(w=np.random.rand(nro_entradas, 32),\n",
    "                          v=np.zeros((nro_entradas, 32)),\n",
    "                          funcion_activacion=activacion[0],\n",
    "                          der_func_activacion=activacion[1])\n",
    "        self.capa2 = Capa(w=np.random.rand(32, 16),\n",
    "                          v=np.zeros((32, 16)),\n",
    "                          funcion_activacion=activacion[0],\n",
    "                          der_func_activacion=activacion[1])\n",
    "        self.salida = Capa(w=np.random.rand(16, k),\n",
    "                           v=np.zeros((16, k)),\n",
    "                           funcion_activacion=softmax,\n",
    "                           der_func_activacion=softmax_derivada)\n",
    "\n",
    "    def forward_pass(self, vector_entrada):\n",
    "        self.entrada.a = vector_entrada\n",
    "        capas = [self.entrada, self.capa1, self.capa2, self.salida]\n",
    "        for i1 in range(len(capas)-1):\n",
    "            capas[i1 + 1].z = np.dot(capas[i1].a, capas[i1+1].w)\n",
    "            capas[i1 + 1].a = capas[i1+1].funcion_delta(capas[i1 + 1].z)\n",
    "            capas[i1 + 1].g_prima = capas[i1+1].funcion_delta_prima(capas[i1 + 1].z)\n",
    "\n",
    "    def backward_pass(self, ys_teoricas):\n",
    "        capas = [self.entrada, self.capa1, self.capa2, self.salida]\n",
    "        if self.loss == \"mse\":\n",
    "            capas[-1].d = np.multiply(np.subtract(capas[-1].a, ys_teoricas), capas[-1].g_prima)\n",
    "        elif self.loss == \"categorical_crossentropy\":\n",
    "            capas[-1].d = capas[-1].a - ys_teoricas\n",
    "        for i1 in range(len(capas) - 2, 0, -1):\n",
    "            capas[i1].d = np.multiply(capas[i1].g_prima, np.dot(capas[i1 + 1].d, capas[i1 + 1].w.T))\n",
    "        for i2 in range(len(capas) - 1):\n",
    "            capas[i2 + 1].dw = np.dot(capas[i2].a.T, capas[i2 + 1].d)\n",
    "\n",
    "    def f(self, entrada):\n",
    "        self.forward_pass(entrada)\n",
    "        return self.salida.a\n",
    "\n",
    "    def stochastic_gradient_descent(self, ejemplos, epochs, tasa_aprendizaje, graficar=False):\n",
    "        costes = list()\n",
    "        for e in range(epochs):\n",
    "            coste = 0\n",
    "            np.random.shuffle(ejemplos)\n",
    "            for v in ejemplos:\n",
    "                self.forward_pass(v[0:self.nro_entradas][np.newaxis])\n",
    "                self.backward_pass(v[self.nro_entradas:][np.newaxis])\n",
    "                capas = [self.entrada, self.capa1, self.capa2, self.salida]\n",
    "                for c in range(len(capas)-1, 0, -1):\n",
    "                    if not self.momentum:\n",
    "                        capas[c].w -= tasa_aprendizaje*capas[c].dw\n",
    "                    else:\n",
    "                        capas[c].v = 0.5*capas[c].v - tasa_aprendizaje*capas[c].dw\n",
    "                        capas[c].w += capas[c].v\n",
    "                perdida = 0\n",
    "                if self.loss == \"mse\":\n",
    "                    perdida = mse(self.salida.a, v[self.nro_entradas:][np.newaxis])\n",
    "                elif self.loss == \"categorical_crossentropy\":\n",
    "                    perdida = cross_entropy(self.salida.a, v[self.nro_entradas:][np.newaxis])\n",
    "                coste += perdida\n",
    "\n",
    "            costes.append(coste/ejemplos.shape[0])\n",
    "\n",
    "        if graficar:\n",
    "            plt.plot(np.arange(epochs), costes)\n",
    "            # plt.ylim(0, 1)\n",
    "            plt.xlabel('Epochs')\n",
    "            plt.ylabel('Perdida')\n",
    "            plt.title(str('Epochs: ' + str(epochs) + ', Tasa: ' + str(tasa_aprendizaje)))\n",
    "            plt.show()"
   ]
  },
  {
   "cell_type": "markdown",
   "metadata": {},
   "source": [
    "b) Para ejecutar la función se utiliza la función _f_ definida en el código anterior. Para utilizar forward pass sobre los _n_ ejemplos se utiliza SDG. "
   ]
  },
  {
   "cell_type": "code",
   "execution_count": 46,
   "metadata": {},
   "outputs": [],
   "source": [
    "def iniciar_red(entrenamiento, test, tipo, activacion, epochs):\n",
    "    print(\"\\nLoss:\", tipo, \",Función de activación:\", activacion[0].__name__)\n",
    "    NRO_ENTRADAS = 4\n",
    "    K = 3\n",
    "\n",
    "    rn = RedNeuronal(NRO_ENTRADAS, K, tipo, activacion, False)\n",
    "    rn.stochastic_gradient_descent(entrenamiento, epochs, 0.10, True)\n",
    "    print(\"Resultados sobre conjunto de prueba:\")\n",
    "    buenos = 0\n",
    "    malos = 0\n",
    "    for v1 in test:\n",
    "        a = np.argmax(rn.f(v1[0:NRO_ENTRADAS][np.newaxis]))\n",
    "        b = np.argmax(v1[NRO_ENTRADAS:][np.newaxis])\n",
    "        print(\"Esperado:\",str(b),\"Red:\", str(a))\n",
    "        if a == b:\n",
    "            buenos += 1\n",
    "        else:\n",
    "            malos += 1\n",
    "\n",
    "    print(\"Aciertos:\", buenos, \"Arrores:\", malos)\n",
    "    return rn\n"
   ]
  },
  {
   "cell_type": "markdown",
   "metadata": {},
   "source": [
    "c) Las funciones de activación fueron definidas en _a)_.\n",
    "> Se trabajó con un 10% del _dataset_ iris para probar la red, el resto se utilizó para entrenar."
   ]
  },
  {
   "cell_type": "code",
   "execution_count": 48,
   "metadata": {},
   "outputs": [
    {
     "name": "stdout",
     "output_type": "stream",
     "text": [
      "\n",
      "Loss: mse ,Función de activación: sigmoid\n"
     ]
    },
    {
     "data": {
      "image/png": "[encoded data removed]",
      "text/plain": [
       "<matplotlib.figure.Figure at 0x13bcc88c668>"
      ]
     },
     "metadata": {},
     "output_type": "display_data"
    },
    {
     "name": "stdout",
     "output_type": "stream",
     "text": [
      "Resultados sobre conjunto de prueba:\n",
      "Esperado: 1 Red: 1\n",
      "Esperado: 1 Red: 1\n",
      "Esperado: 1 Red: 1\n",
      "Esperado: 1 Red: 1\n",
      "Esperado: 0 Red: 0\n",
      "Esperado: 1 Red: 1\n",
      "Esperado: 2 Red: 2\n",
      "Esperado: 0 Red: 0\n",
      "Esperado: 1 Red: 1\n",
      "Esperado: 1 Red: 1\n",
      "Esperado: 0 Red: 0\n",
      "Esperado: 1 Red: 1\n",
      "Esperado: 1 Red: 1\n",
      "Esperado: 0 Red: 0\n",
      "Esperado: 0 Red: 0\n",
      "Aciertos: 15 Arrores: 0\n",
      "\n",
      "Loss: categorical_crossentropy ,Función de activación: sigmoid\n"
     ]
    },
    {
     "data": {
      "image/png": "[encoded data removed]",
      "text/plain": [
       "<matplotlib.figure.Figure at 0x13bcc8c4978>"
      ]
     },
     "metadata": {},
     "output_type": "display_data"
    },
    {
     "name": "stdout",
     "output_type": "stream",
     "text": [
      "Resultados sobre conjunto de prueba:\n",
      "Esperado: 1 Red: 1\n",
      "Esperado: 1 Red: 1\n",
      "Esperado: 1 Red: 1\n",
      "Esperado: 1 Red: 1\n",
      "Esperado: 0 Red: 0\n",
      "Esperado: 1 Red: 1\n",
      "Esperado: 2 Red: 1\n",
      "Esperado: 0 Red: 0\n",
      "Esperado: 1 Red: 1\n",
      "Esperado: 1 Red: 1\n",
      "Esperado: 0 Red: 0\n",
      "Esperado: 1 Red: 1\n",
      "Esperado: 1 Red: 1\n",
      "Esperado: 0 Red: 0\n",
      "Esperado: 0 Red: 0\n",
      "Aciertos: 14 Arrores: 1\n",
      "\n",
      "Loss: mse ,Función de activación: relu\n"
     ]
    },
    {
     "data": {
      "image/png": "[encoded data removed]",
      "text/plain": [
       "<matplotlib.figure.Figure at 0x13bcc85ad68>"
      ]
     },
     "metadata": {},
     "output_type": "display_data"
    },
    {
     "name": "stdout",
     "output_type": "stream",
     "text": [
      "Resultados sobre conjunto de prueba:\n",
      "Esperado: 1 Red: 1\n",
      "Esperado: 1 Red: 1\n",
      "Esperado: 1 Red: 1\n",
      "Esperado: 1 Red: 1\n",
      "Esperado: 0 Red: 0\n",
      "Esperado: 1 Red: 1\n",
      "Esperado: 2 Red: 1\n",
      "Esperado: 0 Red: 0\n",
      "Esperado: 1 Red: 1\n",
      "Esperado: 1 Red: 1\n",
      "Esperado: 0 Red: 0\n",
      "Esperado: 1 Red: 1\n",
      "Esperado: 1 Red: 1\n",
      "Esperado: 0 Red: 0\n",
      "Esperado: 0 Red: 0\n",
      "Aciertos: 14 Arrores: 1\n",
      "\n",
      "Loss: categorical_crossentropy ,Función de activación: relu\n"
     ]
    },
    {
     "data": {
      "image/png": "[encoded data removed]",
      "text/plain": [
       "<matplotlib.figure.Figure at 0x13bcc8b7780>"
      ]
     },
     "metadata": {},
     "output_type": "display_data"
    },
    {
     "name": "stdout",
     "output_type": "stream",
     "text": [
      "Resultados sobre conjunto de prueba:\n",
      "Esperado: 1 Red: 0\n",
      "Esperado: 1 Red: 0\n",
      "Esperado: 1 Red: 0\n",
      "Esperado: 1 Red: 0\n",
      "Esperado: 0 Red: 0\n",
      "Esperado: 1 Red: 0\n",
      "Esperado: 2 Red: 0\n",
      "Esperado: 0 Red: 0\n",
      "Esperado: 1 Red: 0\n",
      "Esperado: 1 Red: 0\n",
      "Esperado: 0 Red: 0\n",
      "Esperado: 1 Red: 0\n",
      "Esperado: 1 Red: 0\n",
      "Esperado: 0 Red: 0\n",
      "Esperado: 0 Red: 0\n",
      "Aciertos: 5 Arrores: 10\n"
     ]
    }
   ],
   "source": [
    "TEST = 0.1\n",
    "x_train, y_train = load_iris(return_X_y=True)\n",
    "binarize = np.zeros((y_train.size, 3))\n",
    "binarize[np.arange(y_train.size), y_train] = 1\n",
    "scaler = StandardScaler().fit(x_train)\n",
    "x_train = scaler.transform(x_train)\n",
    "dataset = np.concatenate((x_train, binarize), axis=1)\n",
    "\n",
    "np.random.shuffle(dataset)\n",
    "entrenamiento = dataset[0:int(dataset.shape[0]*(1-TEST))].copy()\n",
    "test = dataset[int(dataset.shape[0]*(1-TEST)):].copy()\n",
    "\n",
    "rn1 = iniciar_red(entrenamiento, test, \"mse\", [sigmoid, sigmoid_derivada], 100)\n",
    "rn2 = iniciar_red(entrenamiento, test, \"categorical_crossentropy\", [sigmoid, sigmoid_derivada], 100)\n",
    "\n",
    "rn3 = iniciar_red(entrenamiento, test, \"mse\", [relu, relu_derivada], 100)\n",
    "rn4 = iniciar_red(entrenamiento, test, \"categorical_crossentropy\", [relu, relu_derivada], 100)\n"
   ]
  },
  {
   "cell_type": "code",
   "execution_count": null,
   "metadata": {},
   "outputs": [],
   "source": []
  }
 ],
 "metadata": {
  "kernelspec": {
   "display_name": "Python 3",
   "language": "python",
   "name": "python3"
  },
  "language_info": {
   "codemirror_mode": {
    "name": "ipython",
    "version": 3
   },
   "file_extension": ".py",
   "mimetype": "text/x-python",
   "name": "python",
   "nbconvert_exporter": "python",
   "pygments_lexer": "ipython3",
   "version": "3.6.4"
  }
 },
 "nbformat": 4,
 "nbformat_minor": 2
}
